{
 "cells": [
  {
   "cell_type": "markdown",
   "id": "a79095aa-21f8-45a3-9630-b20f57f6996d",
   "metadata": {
    "tags": []
   },
   "source": [
    "<img src=\"./logo.png\" style=\"width:1400px;height:250px\"/>\n",
    "\n",
    "\n",
    "## Ilum Escola de Ciência \n",
    "###  Curso: Análise Numérica\n",
    "### Professor: Vinícius Wasques\n",
    "### Alunos: Gabriel Pereira, Isabela Beneti e Ygor Ruas"
   ]
  },
  {
   "cell_type": "markdown",
   "id": "21daccf5-c85d-450a-a49e-84fc31097f2c",
   "metadata": {},
   "source": [
    "## Importações"
   ]
  },
  {
   "cell_type": "code",
   "execution_count": 1,
   "id": "6388e252-84b5-4b30-84e0-491abe31511a",
   "metadata": {},
   "outputs": [],
   "source": [
    "import numpy as np\n",
    "import matplotlib.pyplot as plt\n",
    "from scipy import integrate"
   ]
  },
  {
   "cell_type": "markdown",
   "id": "d6ea57e0-ab53-4aaa-92de-571dbe1638cc",
   "metadata": {
    "tags": []
   },
   "source": [
    "##  1. Explicação das equações do ponto de vista físico, químico ou biológico."
   ]
  },
  {
   "cell_type": "markdown",
   "id": "df1ea319-fd7e-4996-86f1-ac5fe420b4d2",
   "metadata": {},
   "source": [
    "Para calcular *exatamente* o valor da área determinada pela função $f(x)$ no intervalo determinado, basta calcular a integral dessa função.\n",
    "Como sabemos, o valor da integral infinita da função $e^x$ é o próprio $e^x$, adicionado a uma constante de integração $C$. Ou seja, $\\int e^x dx = e^x + C $."
   ]
  },
  {
   "cell_type": "markdown",
   "id": "385e86ce-6525-4a80-8a2d-071a4d6503ef",
   "metadata": {},
   "source": [
    "Agora, para calcular o valor dessa mesma integral no intervalo [0,2] basta subtrair o valor da integral no ponto 2 pelo valor da integral no ponto 0. Logo\n",
    "\n",
    "$$ \\int_{0}^{2} e^x \\, dx = e^2 + C - (e^0 + C) = e^2 -1$$"
   ]
  },
  {
   "cell_type": "markdown",
   "id": "00fa454f-d610-4411-a10c-8fd4173f3c26",
   "metadata": {},
   "source": [
    "Portanto, o valor exato da área determinada pela função $f(x)$ no intervalo [0,2] é de $e^2 - 1$"
   ]
  },
  {
   "cell_type": "markdown",
   "id": "27ab4a37-c5d3-4631-bfa9-eb141069395f",
   "metadata": {},
   "source": [
    "## 2. Desenvolvimento do código"
   ]
  },
  {
   "cell_type": "markdown",
   "id": "3454ba6b-f732-4a96-9ef5-62de92b4ab2c",
   "metadata": {},
   "source": [
    "Primeiro, vamos implementar a função da qual calcularemos a área"
   ]
  },
  {
   "cell_type": "code",
   "execution_count": 2,
   "id": "a9e92758-30e3-4721-8c3b-c47d1ec59c09",
   "metadata": {},
   "outputs": [],
   "source": [
    "def f(x):\n",
    "    return np.exp(x)"
   ]
  },
  {
   "cell_type": "markdown",
   "id": "a70bc58f-9eae-4f70-9642-66f074017677",
   "metadata": {},
   "source": [
    "Agora, vamos definir uma função que calcula a integral pelo método do trapézio simples (calcula a área do trapézio cujas bases medem $f(a)$ e $f(b)$, e cuja altura mede $b-a$ , sendo a e b os limites da integral)"
   ]
  },
  {
   "cell_type": "markdown",
   "id": "6d818109-2570-495b-8780-b0f8e5d80276",
   "metadata": {},
   "source": [
    "## 3. Como o método de diferenças finitas foi utilizado"
   ]
  },
  {
   "cell_type": "markdown",
   "id": "9296d960-6a6a-4303-bbb8-b63346e8b52a",
   "metadata": {},
   "source": [
    "Para tanto, é necessário definir uma nova função que implemente o método de Simpson, definido pela fórmula que o professor Vinpicius demonstrou (em parte) em aula: $\\frac{h}{3}[f(x_0) + 4f(x_1) + f(x_2)]$"
   ]
  },
  {
   "cell_type": "code",
   "execution_count": 6,
   "id": "883f200c-ac6d-4815-82cf-9653ef53418a",
   "metadata": {},
   "outputs": [],
   "source": [
    "def metodo_de_simpson_simples(f, a, b):\n",
    "    h = (b - a) / 2\n",
    "    x = np.array([a, (a + b) / 2, b])\n",
    "    y = f(x)\n",
    "\n",
    "    integral = h/3 * np.sum(y[0] + 4*y[1] + y[2])\n",
    "\n",
    "    return integral"
   ]
  },
  {
   "cell_type": "markdown",
   "id": "8e36bae7-5060-42cc-b91c-9a0bd6591000",
   "metadata": {},
   "source": [
    "## 4. Gráfico da solução de cada problema"
   ]
  },
  {
   "cell_type": "markdown",
   "id": "0e1007a9-d8af-4c0c-8fb4-231b751f7a3c",
   "metadata": {},
   "source": [
    "Para comparar os métodos do trapéxio e de Simpson, podemos calcular o erro (módulo da diferença em relação ao valor real) de ambos os métodos"
   ]
  },
  {
   "cell_type": "code",
   "execution_count": 8,
   "id": "5d23a571-75e8-4a29-81d1-2d658e753735",
   "metadata": {},
   "outputs": [
    {
     "name": "stdout",
     "output_type": "stream",
     "text": [
      "Solução analítica: 6.38905609893065\n"
     ]
    }
   ],
   "source": [
    "# calculando integral analítica\n",
    "integral_analitica= f(2)-1 # calculando a integral de acordo com o resultado obtido no item a (e^2 - 1)\n",
    "print(\"Solução analítica:\", integral_analitica)"
   ]
  },
  {
   "cell_type": "markdown",
   "id": "a40e2bca-45a7-44e5-9311-2919a8e07c9a",
   "metadata": {},
   "source": [
    "## 4. Contribuições de cada membro da equipe"
   ]
  },
  {
   "cell_type": "markdown",
   "id": "84e9cb11-3ef6-4280-9480-939d5867e281",
   "metadata": {
    "tags": []
   },
   "source": [
    "# Exercício 2"
   ]
  },
  {
   "cell_type": "markdown",
   "id": "5c77c203-080d-407c-97ac-a8c710a934d8",
   "metadata": {},
   "source": [
    "a) Considere agora a função $g(x) = e^{−x^2}$ no intervalo [−1, 1] que só poder ser resolvida numericamente. Utilize o método que você considerou mais eficiente no exercício anterior e utilize sua versão composta (considere pelo menos 5 pontos na sua partição) para estimar a área da região determinada por $g(x)$."
   ]
  },
  {
   "cell_type": "markdown",
   "id": "ccd8b646-a28c-4597-8e7b-ad2bc6f2b2d8",
   "metadata": {},
   "source": [
    "Pelo erro calculado, considero que o método mais eficiente foi o de Simpson. Para realizar o método de Simpson composto, podemos definir a função abaixo, que é muito semelhante à função do método de Simpson simples, mas implementa partições (que, nesse caso, precisam ser um número par)."
   ]
  },
  {
   "cell_type": "code",
   "execution_count": 11,
   "id": "1250a88a-a7c8-47f1-85e1-36a742f91030",
   "metadata": {},
   "outputs": [],
   "source": [
    "def metodo_de_simpson_composto(g, a, b, n):\n",
    "    if n % 2 != 0:\n",
    "        n += 1  # Garante um número par de partições\n",
    "\n",
    "    h = (b - a) / n\n",
    "    x = np.linspace(a, b, n+1)\n",
    "    y = g(x)\n",
    "\n",
    "    integral = h/3 * np.sum(y[0:-1:2] + 4*y[1:-1:2] + y[2::2])\n",
    "\n",
    "    return integral"
   ]
  },
  {
   "cell_type": "code",
   "execution_count": 12,
   "id": "89af8faf-899b-4e0e-b40f-43cdd760d6c4",
   "metadata": {},
   "outputs": [],
   "source": [
    "def g(x):\n",
    "    return np.exp(-x**2)"
   ]
  },
  {
   "cell_type": "code",
   "execution_count": 13,
   "id": "52ba9bb1-c224-4447-83c0-f02b74409a28",
   "metadata": {},
   "outputs": [
    {
     "name": "stdout",
     "output_type": "stream",
     "text": [
      "Estimativa da integral pelo método do Simpson composto: 1.493674109820692\n"
     ]
    }
   ],
   "source": [
    "a= -1\n",
    "b= 1\n",
    "integral_simpson_composta = metodo_de_simpson_composto(g, a, b, 10)\n",
    "print(\"Estimativa da integral pelo método do Simpson composto:\", integral_simpson_composta)"
   ]
  }
 ],
 "metadata": {
  "kernelspec": {
   "display_name": "ilumpy",
   "language": "python",
   "name": "ilumpy"
  },
  "language_info": {
   "codemirror_mode": {
    "name": "ipython",
    "version": 3
   },
   "file_extension": ".py",
   "mimetype": "text/x-python",
   "name": "python",
   "nbconvert_exporter": "python",
   "pygments_lexer": "ipython3",
   "version": "3.9.7"
  }
 },
 "nbformat": 4,
 "nbformat_minor": 5
}
